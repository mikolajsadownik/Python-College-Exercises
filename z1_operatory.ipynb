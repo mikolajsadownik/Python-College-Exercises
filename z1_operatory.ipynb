{
 "cells": [
  {
   "cell_type": "markdown",
   "source": [
    "#### Funkcja drukująca\n",
    " \n",
    "print"
   ],
   "metadata": {
    "collapsed": false
   },
   "id": "d5d7d79eff7a52d3"
  },
  {
   "cell_type": "code",
   "outputs": [
    {
     "name": "stdout",
     "output_type": "stream",
     "text": [
      "1\n"
     ]
    }
   ],
   "source": [
    "print(1)"
   ],
   "metadata": {
    "collapsed": true,
    "ExecuteTime": {
     "end_time": "2024-03-04T16:21:21.429734Z",
     "start_time": "2024-03-04T16:21:21.414456Z"
    }
   },
   "id": "initial_id",
   "execution_count": 1
  },
  {
   "cell_type": "markdown",
   "source": [
    "#### Zmienne\n",
    "* int\n",
    "* float\n",
    "* Bool\n",
    "* string (\"\", '', ''' ''')\n",
    "* None\n",
    "\n",
    "* Typ możemy sprawdzać funkcją type\n",
    "* Napisy: konkatenacja, mnożenie"
   ],
   "metadata": {
    "collapsed": false
   },
   "id": "b69d07de0a4f92fa"
  },
  {
   "cell_type": "code",
   "outputs": [],
   "source": [],
   "metadata": {
    "collapsed": false
   },
   "id": "a9de2704e9ed2159"
  },
  {
   "cell_type": "markdown",
   "source": [
    "#### Operatory arytmetyczne\n",
    "* standardowo\n",
    "* % to modulo\n",
    "* // dzielenie całkowitoliczbowe (obcinana część ułamkowa w kierunku 0)\n",
    "* ale ** to potęgowanie"
   ],
   "metadata": {
    "collapsed": false
   },
   "id": "807d9177bb26f342"
  },
  {
   "cell_type": "code",
   "outputs": [],
   "source": [],
   "metadata": {
    "collapsed": false
   },
   "id": "f567d32602dc1f34"
  },
  {
   "cell_type": "markdown",
   "source": [
    "#### Wczytywanie danych od użytkownika\n",
    "* funkcja input\n",
    "* zwraca napis\n",
    "* jeśli chcemy działać na liczbach to musimy przekonwertować\n"
   ],
   "metadata": {
    "collapsed": false
   },
   "id": "c9664dbc7503e927"
  },
  {
   "cell_type": "code",
   "outputs": [],
   "source": [
    "x = input(\"Podaj liczbę: \")"
   ],
   "metadata": {
    "collapsed": false,
    "ExecuteTime": {
     "end_time": "2024-03-04T16:28:09.979916Z",
     "start_time": "2024-03-04T16:28:07.122059Z"
    }
   },
   "id": "75f3a3b0e85d1a49",
   "execution_count": 2
  },
  {
   "cell_type": "code",
   "outputs": [
    {
     "data": {
      "text/plain": "'3'"
     },
     "execution_count": 3,
     "metadata": {},
     "output_type": "execute_result"
    }
   ],
   "source": [
    "x"
   ],
   "metadata": {
    "collapsed": false,
    "ExecuteTime": {
     "end_time": "2024-03-04T16:28:17.471612Z",
     "start_time": "2024-03-04T16:28:17.467969Z"
    }
   },
   "id": "1a8613c872e08d2",
   "execution_count": 3
  },
  {
   "cell_type": "code",
   "outputs": [],
   "source": [],
   "metadata": {
    "collapsed": false
   },
   "id": "cab2c743c681dca7"
  },
  {
   "cell_type": "markdown",
   "source": [
    "#### Dołączanie bibliotek"
   ],
   "metadata": {
    "collapsed": false
   },
   "id": "f8bd3362e0586d77"
  },
  {
   "cell_type": "code",
   "outputs": [],
   "source": [
    "import math"
   ],
   "metadata": {
    "collapsed": false,
    "ExecuteTime": {
     "end_time": "2024-03-04T16:29:57.160639Z",
     "start_time": "2024-03-04T16:29:57.157701Z"
    }
   },
   "id": "3c1b0c1ea1929a43",
   "execution_count": 4
  },
  {
   "cell_type": "code",
   "outputs": [
    {
     "data": {
      "text/plain": "3.141592653589793"
     },
     "execution_count": 5,
     "metadata": {},
     "output_type": "execute_result"
    }
   ],
   "source": [
    "math.pi"
   ],
   "metadata": {
    "collapsed": false,
    "ExecuteTime": {
     "end_time": "2024-03-04T16:30:02.591069Z",
     "start_time": "2024-03-04T16:30:02.586245Z"
    }
   },
   "id": "38c0add6339a18c6",
   "execution_count": 5
  },
  {
   "cell_type": "code",
   "outputs": [],
   "source": [],
   "metadata": {
    "collapsed": false
   },
   "id": "3ef7ab53c498d8c9"
  },
  {
   "cell_type": "markdown",
   "source": [
    "### Zadanie 1\n",
    "Wczytać dwie liczby x i y, wydrukować:\n",
    "* x+y\n",
    "* resztę z dzielenia x/y\n",
    "* x do potęgi y"
   ],
   "metadata": {
    "collapsed": false
   },
   "id": "731c509f8c69693e"
  },
  {
   "cell_type": "code",
   "outputs": [
    {
     "name": "stdout",
     "output_type": "stream",
     "text": [
      "5\n",
      "2\n",
      "8\n"
     ]
    }
   ],
   "source": [
    "x = int(input())\n",
    "y = int(input())\n",
    "print(x+y)\n",
    "print(x%y)\n",
    "print(x**y)"
   ],
   "metadata": {
    "collapsed": false
   },
   "id": "80e79f195f11af8b",
   "execution_count": 2
  },
  {
   "cell_type": "markdown",
   "source": [
    "### Zadanie 2\n",
    "- Przypisać wartości 2 i 3 do zmiennych a i b\n",
    "- podstawić do zmiennej c wynik $\\frac{b}{2a} + \\frac{5}{a + b}(4a - b)^3$\n",
    "- wydrukować c"
   ],
   "metadata": {
    "collapsed": false
   },
   "id": "ed7a3f29631de656"
  },
  {
   "cell_type": "code",
   "execution_count": null,
   "outputs": [],
   "source": [],
   "metadata": {
    "collapsed": false
   }
  },
  {
   "cell_type": "code",
   "outputs": [
    {
     "name": "stdout",
     "output_type": "stream",
     "text": [
      "128.0\n"
     ]
    }
   ],
   "source": [
    "a = 2\n",
    "b = 3\n",
    "c = b / 2 * a + 5 / (a + b) * (4 * a - b)**3\n",
    "print(c)"
   ],
   "metadata": {
    "collapsed": false
   },
   "id": "14aa2f508ccbba23",
   "execution_count": 13
  },
  {
   "cell_type": "markdown",
   "source": [],
   "metadata": {
    "collapsed": false
   },
   "id": "297958cacfbcefb8"
  },
  {
   "cell_type": "markdown",
   "source": [
    "### Zadanie 3\n",
    "Policzyć i wydrukować objętość i pole powierzchni stożka ściętego - na podstawie wczytanych wartości R, r i h.\n",
    "$$V=\\frac{1}{3} πh(R^2+Rr+r^2)$$\n",
    "$$l=\\sqrt{h^2 + (R-r)^2}$$\n",
    "$$P_b=πl(R+r)$$"
   ],
   "metadata": {
    "collapsed": false
   },
   "id": "88f23a5a26d19cb7"
  },
  {
   "cell_type": "code",
   "outputs": [
    {
     "name": "stdout",
     "output_type": "stream",
     "text": [
      "62.83185307179586\n"
     ]
    }
   ],
   "source": [
    "import math\n",
    "R = int(input())\n",
    "r = int(input())\n",
    "h = int(input())\n",
    "\n",
    "l = pow(h**2 + (R - R)**2, 0.5)\n",
    "P = math.pi * l * (R + r)\n",
    "print(P)"
   ],
   "metadata": {
    "collapsed": false
   },
   "id": "db63ce1355a718ed",
   "execution_count": 18
  },
  {
   "cell_type": "markdown",
   "source": [
    "### Zadanie 4\n",
    "Wczytać współczynniki równania\n",
    "$$ a x^2 + b x + c = 0 $$\n",
    "* policzyć $\\Delta$\n",
    "* [bonus ify] wyznaczyć rozwiązania równania"
   ],
   "metadata": {
    "collapsed": false
   },
   "id": "e0bbf7c9f7560f42"
  },
  {
   "cell_type": "code",
   "outputs": [
    {
     "name": "stdout",
     "output_type": "stream",
     "text": [
      "0.0\n"
     ]
    }
   ],
   "source": [
    "a = int(input())\n",
    "b = int(input())\n",
    "c = int(input())\n",
    "\n",
    "delta =  b**2 - 4 * a * c\n",
    "\n",
    "if delta > 0.0:\n",
    "    deltaSquared = pow(delta,0.5)\n",
    "    x1 = (deltaSquared - b) / 2 * a\n",
    "    x2 = (-1 * deltaSquared - b) / 2 * a\n",
    "    print(x1)\n",
    "    print(x2)\n",
    "elif delta == 0:\n",
    "    deltaSquared = pow(delta,0.5)\n",
    "    x1 = (deltaSquared - b) / 2 * a\n",
    "    print(x1)\n",
    "else:\n",
    "    print(\"No solutions\")\n",
    "\n"
   ],
   "metadata": {
    "collapsed": false
   },
   "id": "8656e071feddbb48",
   "execution_count": 24
  },
  {
   "cell_type": "code",
   "execution_count": 23,
   "outputs": [],
   "source": [],
   "metadata": {
    "collapsed": false
   }
  },
  {
   "cell_type": "code",
   "execution_count": null,
   "outputs": [],
   "source": [],
   "metadata": {
    "collapsed": false
   }
  }
 ],
 "metadata": {
  "kernelspec": {
   "display_name": "Python 3",
   "language": "python",
   "name": "python3"
  },
  "language_info": {
   "codemirror_mode": {
    "name": "ipython",
    "version": 2
   },
   "file_extension": ".py",
   "mimetype": "text/x-python",
   "name": "python",
   "nbconvert_exporter": "python",
   "pygments_lexer": "ipython2",
   "version": "2.7.6"
  }
 },
 "nbformat": 4,
 "nbformat_minor": 5
}
