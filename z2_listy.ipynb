{
 "cells": [
  {
   "cell_type": "markdown",
   "source": [
    "## Listy, krotki, zbiory, słowniki"
   ],
   "metadata": {
    "collapsed": false
   },
   "id": "804c8c7d51e00fe5"
  },
  {
   "cell_type": "markdown",
   "source": [
    "### Listy\n",
    "* lista uporządkowanych elementów (mogą być różnych typów)\n",
    "* indeksowane od 0\n",
    "* indeksujemy [od:do:krok] (od - włącznie, do wyłącznie)"
   ],
   "metadata": {
    "collapsed": false
   },
   "id": "14c6b0a7f5d13f70"
  },
  {
   "cell_type": "code",
   "outputs": [
    {
     "data": {
      "text/plain": "[1, 1.5, 'b', 'c']"
     },
     "execution_count": 1,
     "metadata": {},
     "output_type": "execute_result"
    }
   ],
   "source": [
    "l = [1, 1.5, 'b', 'c']\n",
    "l"
   ],
   "metadata": {
    "collapsed": false,
    "ExecuteTime": {
     "end_time": "2024-03-07T12:26:42.067345Z",
     "start_time": "2024-03-07T12:26:42.055743Z"
    }
   },
   "id": "f53517085867f5b3",
   "execution_count": 1
  },
  {
   "cell_type": "code",
   "outputs": [
    {
     "data": {
      "text/plain": "1"
     },
     "execution_count": 2,
     "metadata": {},
     "output_type": "execute_result"
    }
   ],
   "source": [
    "l[0]"
   ],
   "metadata": {
    "collapsed": false,
    "ExecuteTime": {
     "end_time": "2024-03-07T12:26:49.375116Z",
     "start_time": "2024-03-07T12:26:49.369156Z"
    }
   },
   "id": "16c6354afdd92b1a",
   "execution_count": 2
  },
  {
   "cell_type": "code",
   "outputs": [
    {
     "data": {
      "text/plain": "4"
     },
     "execution_count": 3,
     "metadata": {},
     "output_type": "execute_result"
    }
   ],
   "source": [
    "len(l)"
   ],
   "metadata": {
    "collapsed": false,
    "ExecuteTime": {
     "end_time": "2024-03-07T12:26:55.582560Z",
     "start_time": "2024-03-07T12:26:55.576433Z"
    }
   },
   "id": "22ef7d560bf924d0",
   "execution_count": 3
  },
  {
   "cell_type": "code",
   "outputs": [
    {
     "data": {
      "text/plain": "'c'"
     },
     "execution_count": 4,
     "metadata": {},
     "output_type": "execute_result"
    }
   ],
   "source": [
    "l[-1]"
   ],
   "metadata": {
    "collapsed": false,
    "ExecuteTime": {
     "end_time": "2024-03-07T12:27:18.397039Z",
     "start_time": "2024-03-07T12:27:18.390006Z"
    }
   },
   "id": "b5ff6a1b0d6c0563",
   "execution_count": 4
  },
  {
   "cell_type": "code",
   "outputs": [
    {
     "data": {
      "text/plain": "[0, 1, 2, 3, 4, 5, 6, 7, 8, 9]"
     },
     "execution_count": 24,
     "metadata": {},
     "output_type": "execute_result"
    }
   ],
   "source": [
    "lista = list(range(10))\n",
    "lista"
   ],
   "metadata": {
    "collapsed": false,
    "ExecuteTime": {
     "end_time": "2024-03-07T13:34:28.908668Z",
     "start_time": "2024-03-07T13:34:28.901888Z"
    }
   },
   "id": "40f1ede1ff76c72a",
   "execution_count": 24
  },
  {
   "cell_type": "code",
   "outputs": [
    {
     "data": {
      "text/plain": "45"
     },
     "execution_count": 6,
     "metadata": {},
     "output_type": "execute_result"
    }
   ],
   "source": [
    "sum(lista)"
   ],
   "metadata": {
    "collapsed": false,
    "ExecuteTime": {
     "end_time": "2024-03-07T12:29:29.579110Z",
     "start_time": "2024-03-07T12:29:29.572312Z"
    }
   },
   "id": "c59e4a73d46f4c2",
   "execution_count": 6
  },
  {
   "cell_type": "code",
   "outputs": [
    {
     "data": {
      "text/plain": "[1, 2, 3]"
     },
     "execution_count": 7,
     "metadata": {},
     "output_type": "execute_result"
    }
   ],
   "source": [
    "lista[1:4]"
   ],
   "metadata": {
    "collapsed": false,
    "ExecuteTime": {
     "end_time": "2024-03-07T12:29:46.807403Z",
     "start_time": "2024-03-07T12:29:46.800969Z"
    }
   },
   "id": "8d26d2fc93967be1",
   "execution_count": 7
  },
  {
   "cell_type": "code",
   "outputs": [
    {
     "data": {
      "text/plain": "[1, 3, 5, 7, 9]"
     },
     "execution_count": 8,
     "metadata": {},
     "output_type": "execute_result"
    }
   ],
   "source": [
    "lista[1::2]"
   ],
   "metadata": {
    "collapsed": false,
    "ExecuteTime": {
     "end_time": "2024-03-07T12:30:04.651950Z",
     "start_time": "2024-03-07T12:30:04.645167Z"
    }
   },
   "id": "f62c207a692bbb6d",
   "execution_count": 8
  },
  {
   "cell_type": "code",
   "outputs": [
    {
     "data": {
      "text/plain": "[9, 8, 7, 6, 5, 4, 3, 2, 1, 0]"
     },
     "execution_count": 9,
     "metadata": {},
     "output_type": "execute_result"
    }
   ],
   "source": [
    "lista[::-1]"
   ],
   "metadata": {
    "collapsed": false,
    "ExecuteTime": {
     "end_time": "2024-03-07T12:30:52.724819Z",
     "start_time": "2024-03-07T12:30:52.717093Z"
    }
   },
   "id": "4b49ee34ce0b653e",
   "execution_count": 9
  },
  {
   "cell_type": "code",
   "outputs": [
    {
     "data": {
      "text/plain": "[6, 7, 8]"
     },
     "execution_count": 10,
     "metadata": {},
     "output_type": "execute_result"
    }
   ],
   "source": [
    "lista[-4:-1]"
   ],
   "metadata": {
    "collapsed": false,
    "ExecuteTime": {
     "end_time": "2024-03-07T13:34:33.752437Z",
     "start_time": "2024-03-07T13:34:33.745493Z"
    }
   },
   "id": "9ac02cd3df5decb2",
   "execution_count": 10
  },
  {
   "cell_type": "code",
   "outputs": [
    {
     "data": {
      "text/plain": "[100, 1, 2, 3, 4, 5, 6, 7, 8, 9]"
     },
     "execution_count": 11,
     "metadata": {},
     "output_type": "execute_result"
    }
   ],
   "source": [
    "lista[0] = 100\n",
    "lista"
   ],
   "metadata": {
    "collapsed": false,
    "ExecuteTime": {
     "end_time": "2024-03-07T12:32:48.542861Z",
     "start_time": "2024-03-07T12:32:48.536617Z"
    }
   },
   "id": "d3fa8f437c713fed",
   "execution_count": 11
  },
  {
   "cell_type": "code",
   "outputs": [
    {
     "data": {
      "text/plain": "[100, 1, 2, 3, 4, 5, 6, 7, 8, 9, 1000]"
     },
     "execution_count": 12,
     "metadata": {},
     "output_type": "execute_result"
    }
   ],
   "source": [
    "lista.append(1000)\n",
    "lista"
   ],
   "metadata": {
    "collapsed": false,
    "ExecuteTime": {
     "end_time": "2024-03-07T12:33:26.789264Z",
     "start_time": "2024-03-07T12:33:26.783310Z"
    }
   },
   "id": "bac5962d4e1ffb05",
   "execution_count": 12
  },
  {
   "cell_type": "code",
   "outputs": [
    {
     "data": {
      "text/plain": "['p', 'y', 't', 'h', 'o', 'n']"
     },
     "execution_count": 13,
     "metadata": {},
     "output_type": "execute_result"
    }
   ],
   "source": [
    "list('python')"
   ],
   "metadata": {
    "collapsed": false,
    "ExecuteTime": {
     "end_time": "2024-03-07T13:35:21.415994Z",
     "start_time": "2024-03-07T13:35:21.410483Z"
    }
   },
   "id": "b16e85f1f7924ad9",
   "execution_count": 13
  },
  {
   "cell_type": "code",
   "outputs": [
    {
     "data": {
      "text/plain": "['__add__',\n '__class__',\n '__class_getitem__',\n '__contains__',\n '__delattr__',\n '__delitem__',\n '__dir__',\n '__doc__',\n '__eq__',\n '__format__',\n '__ge__',\n '__getattribute__',\n '__getitem__',\n '__gt__',\n '__hash__',\n '__iadd__',\n '__imul__',\n '__init__',\n '__init_subclass__',\n '__iter__',\n '__le__',\n '__len__',\n '__lt__',\n '__mul__',\n '__ne__',\n '__new__',\n '__reduce__',\n '__reduce_ex__',\n '__repr__',\n '__reversed__',\n '__rmul__',\n '__setattr__',\n '__setitem__',\n '__sizeof__',\n '__str__',\n '__subclasshook__',\n 'append',\n 'clear',\n 'copy',\n 'count',\n 'extend',\n 'index',\n 'insert',\n 'pop',\n 'remove',\n 'reverse',\n 'sort']"
     },
     "execution_count": 14,
     "metadata": {},
     "output_type": "execute_result"
    }
   ],
   "source": [
    "dir(list)"
   ],
   "metadata": {
    "collapsed": false,
    "ExecuteTime": {
     "end_time": "2024-03-07T12:34:37.804714Z",
     "start_time": "2024-03-07T12:34:37.796944Z"
    }
   },
   "id": "3bb24d3fcef2e299",
   "execution_count": 14
  },
  {
   "cell_type": "code",
   "outputs": [
    {
     "name": "stdout",
     "output_type": "stream",
     "text": [
      "Help on method_descriptor:\n",
      "\n",
      "count(self, value, /)\n",
      "    Return number of occurrences of value.\n",
      "\n"
     ]
    }
   ],
   "source": [
    "help(list.count)"
   ],
   "metadata": {
    "collapsed": false,
    "ExecuteTime": {
     "end_time": "2024-03-07T12:34:59.758175Z",
     "start_time": "2024-03-07T12:34:59.751256Z"
    }
   },
   "id": "cae2c777451627e6",
   "execution_count": 15
  },
  {
   "cell_type": "code",
   "outputs": [
    {
     "name": "stdout",
     "output_type": "stream",
     "text": [
      "0\n",
      "1\n",
      "2\n",
      "3\n",
      "4\n",
      "5\n",
      "6\n",
      "7\n",
      "8\n",
      "9\n"
     ]
    }
   ],
   "source": [
    "# bonusowo for (do zadań)\n",
    "for i in range(10):\n",
    "    print(i)"
   ],
   "metadata": {
    "collapsed": false,
    "ExecuteTime": {
     "end_time": "2024-03-07T13:24:33.109268Z",
     "start_time": "2024-03-07T13:24:33.102840Z"
    }
   },
   "id": "8b5386bef3b5d7e3",
   "execution_count": 16
  },
  {
   "cell_type": "code",
   "outputs": [
    {
     "name": "stdout",
     "output_type": "stream",
     "text": [
      "a\n",
      "b\n",
      "c\n"
     ]
    }
   ],
   "source": [
    "for i in ['a', 'b', 'c']:\n",
    "    print(i)"
   ],
   "metadata": {
    "collapsed": false,
    "ExecuteTime": {
     "end_time": "2024-03-07T13:14:51.738710Z",
     "start_time": "2024-03-07T13:14:51.733289Z"
    }
   },
   "id": "64d25541831ee406",
   "execution_count": 17
  },
  {
   "cell_type": "code",
   "outputs": [
    {
     "name": "stdout",
     "output_type": "stream",
     "text": [
      "0\n",
      "2\n",
      "4\n",
      "6\n",
      "8\n"
     ]
    }
   ],
   "source": [
    "for i in range(10):\n",
    "    if i % 2 == 0:\n",
    "        print(i)"
   ],
   "metadata": {
    "collapsed": false,
    "ExecuteTime": {
     "end_time": "2024-03-07T13:15:18.695518Z",
     "start_time": "2024-03-07T13:15:18.690205Z"
    }
   },
   "id": "9b5003a6a4d3fbcf",
   "execution_count": 18
  },
  {
   "cell_type": "code",
   "outputs": [
    {
     "data": {
      "text/plain": "[[1, 2], [3, 4]]"
     },
     "execution_count": 19,
     "metadata": {},
     "output_type": "execute_result"
    }
   ],
   "source": [
    "# zagnieżdżenia\n",
    "l2 = [[1, 2], [3, 4]]\n",
    "l2"
   ],
   "metadata": {
    "collapsed": false,
    "ExecuteTime": {
     "end_time": "2024-03-07T13:23:03.348839Z",
     "start_time": "2024-03-07T13:23:03.342244Z"
    }
   },
   "id": "f0ec0eb9a555e913",
   "execution_count": 19
  },
  {
   "cell_type": "code",
   "outputs": [
    {
     "data": {
      "text/plain": "2"
     },
     "execution_count": 20,
     "metadata": {},
     "output_type": "execute_result"
    }
   ],
   "source": [
    "l2[0][1]"
   ],
   "metadata": {
    "collapsed": false,
    "ExecuteTime": {
     "end_time": "2024-03-07T13:23:16.218479Z",
     "start_time": "2024-03-07T13:23:16.211988Z"
    }
   },
   "id": "daab5794b0547c9b",
   "execution_count": 20
  },
  {
   "cell_type": "markdown",
   "source": [
    "### Krotki (tuple)\n",
    "* niemutowalne\n",
    "* indeksowanie jak dla list"
   ],
   "metadata": {
    "collapsed": false
   },
   "id": "816904de29d2a3ea"
  },
  {
   "cell_type": "code",
   "outputs": [
    {
     "data": {
      "text/plain": "(1, 1.5, 'a')"
     },
     "execution_count": 21,
     "metadata": {},
     "output_type": "execute_result"
    }
   ],
   "source": [
    "t = (1, 1.5, 'a')\n",
    "t"
   ],
   "metadata": {
    "collapsed": false,
    "ExecuteTime": {
     "end_time": "2024-03-07T12:37:07.528031Z",
     "start_time": "2024-03-07T12:37:07.522081Z"
    }
   },
   "id": "8be0aea874a11e2f",
   "execution_count": 21
  },
  {
   "cell_type": "code",
   "outputs": [
    {
     "data": {
      "text/plain": "tuple"
     },
     "execution_count": 22,
     "metadata": {},
     "output_type": "execute_result"
    }
   ],
   "source": [
    "type(t)"
   ],
   "metadata": {
    "collapsed": false,
    "ExecuteTime": {
     "end_time": "2024-03-07T12:37:19.382990Z",
     "start_time": "2024-03-07T12:37:19.377460Z"
    }
   },
   "id": "4075870145b6ffdb",
   "execution_count": 22
  },
  {
   "cell_type": "code",
   "outputs": [
    {
     "ename": "TypeError",
     "evalue": "'tuple' object does not support item assignment",
     "output_type": "error",
     "traceback": [
      "\u001B[0;31m---------------------------------------------------------------------------\u001B[0m",
      "\u001B[0;31mTypeError\u001B[0m                                 Traceback (most recent call last)",
      "Cell \u001B[0;32mIn[23], line 1\u001B[0m\n\u001B[0;32m----> 1\u001B[0m \u001B[43mt\u001B[49m\u001B[43m[\u001B[49m\u001B[38;5;241;43m0\u001B[39;49m\u001B[43m]\u001B[49m \u001B[38;5;241m=\u001B[39m \u001B[38;5;241m0\u001B[39m\n",
      "\u001B[0;31mTypeError\u001B[0m: 'tuple' object does not support item assignment"
     ]
    }
   ],
   "source": [
    "t[0] = 0"
   ],
   "metadata": {
    "collapsed": false,
    "ExecuteTime": {
     "end_time": "2024-03-07T12:37:27.408068Z",
     "start_time": "2024-03-07T12:37:27.389470Z"
    }
   },
   "id": "48a38a49ecac388a",
   "execution_count": 23
  },
  {
   "cell_type": "code",
   "outputs": [],
   "source": [
    "t[::-1]"
   ],
   "metadata": {
    "collapsed": false,
    "ExecuteTime": {
     "end_time": "2024-03-07T12:37:37.843966Z",
     "start_time": "2024-03-07T12:37:37.837810Z"
    }
   },
   "id": "ce017ca15ed64008",
   "execution_count": null
  },
  {
   "cell_type": "code",
   "outputs": [],
   "source": [
    "dir(tuple)"
   ],
   "metadata": {
    "collapsed": false,
    "ExecuteTime": {
     "end_time": "2024-03-07T12:38:03.054262Z",
     "start_time": "2024-03-07T12:38:03.046734Z"
    }
   },
   "id": "84c40ada149fb9b9",
   "execution_count": null
  },
  {
   "cell_type": "markdown",
   "source": [
    "### Słowniki\n",
    "* pary klucz - wartość\n",
    "* klucze NIE są uporządkowane (nie możemy mówić np. o pierwszym elemencie słownika)"
   ],
   "metadata": {
    "collapsed": false
   },
   "id": "ab79da4178165b5f"
  },
  {
   "cell_type": "code",
   "outputs": [
    {
     "data": {
      "text/plain": "{'a': 0, 'b': 1}"
     },
     "execution_count": 23,
     "metadata": {},
     "output_type": "execute_result"
    }
   ],
   "source": [
    "d = {'a': 0, 'b': 1}\n",
    "d"
   ],
   "metadata": {
    "collapsed": false,
    "ExecuteTime": {
     "end_time": "2024-03-07T12:41:13.867818Z",
     "start_time": "2024-03-07T12:41:13.861300Z"
    }
   },
   "id": "f8bf3c1415bb5fad",
   "execution_count": 23
  },
  {
   "cell_type": "code",
   "outputs": [],
   "source": [
    "type(d)"
   ],
   "metadata": {
    "collapsed": false,
    "ExecuteTime": {
     "end_time": "2024-03-07T12:40:44.243332Z",
     "start_time": "2024-03-07T12:40:44.236250Z"
    }
   },
   "id": "18ec9b1c38b33266",
   "execution_count": null
  },
  {
   "cell_type": "code",
   "outputs": [
    {
     "data": {
      "text/plain": "0"
     },
     "execution_count": 24,
     "metadata": {},
     "output_type": "execute_result"
    }
   ],
   "source": [
    "d['a']"
   ],
   "metadata": {
    "collapsed": false,
    "ExecuteTime": {
     "end_time": "2024-03-07T12:41:16.429856Z",
     "start_time": "2024-03-07T12:41:16.422036Z"
    }
   },
   "id": "7127a8a5c30e8cd0",
   "execution_count": 24
  },
  {
   "cell_type": "code",
   "outputs": [
    {
     "data": {
      "text/plain": "{'a': 2, 'b': 1}"
     },
     "execution_count": 25,
     "metadata": {},
     "output_type": "execute_result"
    }
   ],
   "source": [
    "d['a'] = 2\n",
    "d"
   ],
   "metadata": {
    "collapsed": false,
    "ExecuteTime": {
     "end_time": "2024-03-07T12:41:17.187079Z",
     "start_time": "2024-03-07T12:41:17.180878Z"
    }
   },
   "id": "6734214c4cdb1013",
   "execution_count": 25
  },
  {
   "cell_type": "code",
   "outputs": [
    {
     "data": {
      "text/plain": "{'a': 2, 'b': 1, 'c': 3}"
     },
     "execution_count": 26,
     "metadata": {},
     "output_type": "execute_result"
    }
   ],
   "source": [
    "d['c'] = 3\n",
    "d"
   ],
   "metadata": {
    "collapsed": false,
    "ExecuteTime": {
     "end_time": "2024-03-07T12:41:30.601780Z",
     "start_time": "2024-03-07T12:41:30.595571Z"
    }
   },
   "id": "341c0ef1f82c663e",
   "execution_count": 26
  },
  {
   "cell_type": "code",
   "outputs": [
    {
     "data": {
      "text/plain": "dict_items([('a', 2), ('b', 1), ('c', 3)])"
     },
     "execution_count": 32,
     "metadata": {},
     "output_type": "execute_result"
    }
   ],
   "source": [
    "d.items()"
   ],
   "metadata": {
    "collapsed": false,
    "ExecuteTime": {
     "end_time": "2024-03-07T12:41:55.775391Z",
     "start_time": "2024-03-07T12:41:55.769255Z"
    }
   },
   "id": "fa02ca16160c63f7",
   "execution_count": 32
  },
  {
   "cell_type": "code",
   "outputs": [
    {
     "data": {
      "text/plain": "dict_keys(['a', 'b', 'c'])"
     },
     "execution_count": 33,
     "metadata": {},
     "output_type": "execute_result"
    }
   ],
   "source": [
    "d.keys()"
   ],
   "metadata": {
    "collapsed": false,
    "ExecuteTime": {
     "end_time": "2024-03-07T12:42:03.274068Z",
     "start_time": "2024-03-07T12:42:03.268703Z"
    }
   },
   "id": "9c805d3a4d424976",
   "execution_count": 33
  },
  {
   "cell_type": "code",
   "outputs": [
    {
     "data": {
      "text/plain": "False"
     },
     "execution_count": 34,
     "metadata": {},
     "output_type": "execute_result"
    }
   ],
   "source": [
    "'d' in d.keys()"
   ],
   "metadata": {
    "collapsed": false,
    "ExecuteTime": {
     "end_time": "2024-03-07T12:42:16.406968Z",
     "start_time": "2024-03-07T12:42:16.395476Z"
    }
   },
   "id": "f5687914c35db8b6",
   "execution_count": 34
  },
  {
   "cell_type": "code",
   "outputs": [
    {
     "ename": "KeyError",
     "evalue": "'d'",
     "output_type": "error",
     "traceback": [
      "\u001B[0;31m---------------------------------------------------------------------------\u001B[0m",
      "\u001B[0;31mKeyError\u001B[0m                                  Traceback (most recent call last)",
      "Cell \u001B[0;32mIn[38], line 1\u001B[0m\n\u001B[0;32m----> 1\u001B[0m \u001B[43md\u001B[49m\u001B[43m[\u001B[49m\u001B[38;5;124;43m'\u001B[39;49m\u001B[38;5;124;43md\u001B[39;49m\u001B[38;5;124;43m'\u001B[39;49m\u001B[43m]\u001B[49m\n",
      "\u001B[0;31mKeyError\u001B[0m: 'd'"
     ]
    }
   ],
   "source": [
    "d['d']"
   ],
   "metadata": {
    "collapsed": false,
    "ExecuteTime": {
     "end_time": "2024-03-07T12:43:01.658050Z",
     "start_time": "2024-03-07T12:43:01.639929Z"
    }
   },
   "id": "2766c36d6ad565f4",
   "execution_count": 38
  },
  {
   "cell_type": "code",
   "outputs": [
    {
     "data": {
      "text/plain": "2"
     },
     "execution_count": 37,
     "metadata": {},
     "output_type": "execute_result"
    }
   ],
   "source": [
    "d.get('a')"
   ],
   "metadata": {
    "collapsed": false,
    "ExecuteTime": {
     "end_time": "2024-03-07T12:42:32.202073Z",
     "start_time": "2024-03-07T12:42:32.196397Z"
    }
   },
   "id": "2194b451067e0667",
   "execution_count": 37
  },
  {
   "cell_type": "code",
   "outputs": [],
   "source": [
    "d.get('d')"
   ],
   "metadata": {
    "collapsed": false,
    "ExecuteTime": {
     "end_time": "2024-03-07T12:42:38.590342Z",
     "start_time": "2024-03-07T12:42:38.585889Z"
    }
   },
   "id": "996f2de45a2a5509",
   "execution_count": 36
  },
  {
   "cell_type": "code",
   "outputs": [
    {
     "data": {
      "text/plain": "0"
     },
     "execution_count": 35,
     "metadata": {},
     "output_type": "execute_result"
    }
   ],
   "source": [
    "d.get('d', 0)"
   ],
   "metadata": {
    "collapsed": false,
    "ExecuteTime": {
     "end_time": "2024-03-07T12:43:15.531946Z",
     "start_time": "2024-03-07T12:43:15.524848Z"
    }
   },
   "id": "295f2b768b3d1a7d",
   "execution_count": 35
  },
  {
   "cell_type": "code",
   "outputs": [],
   "source": [
    "dir(d)"
   ],
   "metadata": {
    "collapsed": false,
    "ExecuteTime": {
     "end_time": "2024-03-07T12:43:20.810743Z",
     "start_time": "2024-03-07T12:43:20.803265Z"
    }
   },
   "id": "f1b3aafbb5702222",
   "execution_count": null
  },
  {
   "cell_type": "markdown",
   "source": [
    "### Zbiory\n",
    "* unikalne elementy"
   ],
   "metadata": {
    "collapsed": false
   },
   "id": "6c51e13a2217c093"
  },
  {
   "cell_type": "code",
   "outputs": [
    {
     "data": {
      "text/plain": "{1, 2, 3}"
     },
     "execution_count": 11,
     "metadata": {},
     "output_type": "execute_result"
    }
   ],
   "source": [
    "s = {1, 2, 3, 3}\n",
    "s"
   ],
   "metadata": {
    "collapsed": false,
    "ExecuteTime": {
     "end_time": "2024-03-07T12:44:23.370964Z",
     "start_time": "2024-03-07T12:44:23.364535Z"
    }
   },
   "id": "1d3b599a04e6077b",
   "execution_count": 11
  },
  {
   "cell_type": "code",
   "outputs": [
    {
     "data": {
      "text/plain": "dict"
     },
     "execution_count": 12,
     "metadata": {},
     "output_type": "execute_result"
    }
   ],
   "source": [
    "# uwaga!\n",
    "s1 = {}\n",
    "type(s1)"
   ],
   "metadata": {
    "collapsed": false,
    "ExecuteTime": {
     "end_time": "2024-03-07T12:44:50.996797Z",
     "start_time": "2024-03-07T12:44:50.990838Z"
    }
   },
   "id": "409ceb9014909858",
   "execution_count": 12
  },
  {
   "cell_type": "code",
   "outputs": [
    {
     "data": {
      "text/plain": "set"
     },
     "execution_count": 9,
     "metadata": {},
     "output_type": "execute_result"
    }
   ],
   "source": [
    "# pusty zbiór robimy tak\n",
    "s1 = set()\n",
    "type(s1)"
   ],
   "metadata": {
    "collapsed": false,
    "ExecuteTime": {
     "end_time": "2024-03-07T12:45:12.937989Z",
     "start_time": "2024-03-07T12:45:12.930982Z"
    }
   },
   "id": "f33f3e1aa56f99a4",
   "execution_count": 9
  },
  {
   "cell_type": "code",
   "outputs": [
    {
     "data": {
      "text/plain": "{1, 2, 3, 5}"
     },
     "execution_count": 13,
     "metadata": {},
     "output_type": "execute_result"
    }
   ],
   "source": [
    "s.add(5)\n",
    "s"
   ],
   "metadata": {
    "collapsed": false,
    "ExecuteTime": {
     "end_time": "2024-03-07T12:45:29.715815Z",
     "start_time": "2024-03-07T12:45:29.709906Z"
    }
   },
   "id": "a33b12b4ebf62a87",
   "execution_count": 13
  },
  {
   "cell_type": "code",
   "outputs": [],
   "source": [
    "s2 = {5, 6}"
   ],
   "metadata": {
    "collapsed": false,
    "ExecuteTime": {
     "end_time": "2024-03-07T12:45:46.254019Z",
     "start_time": "2024-03-07T12:45:46.250318Z"
    }
   },
   "id": "a81e3e77d7c84f54",
   "execution_count": null
  },
  {
   "cell_type": "code",
   "outputs": [],
   "source": [
    "s1.union(s2)"
   ],
   "metadata": {
    "collapsed": false,
    "ExecuteTime": {
     "end_time": "2024-03-07T12:45:53.675412Z",
     "start_time": "2024-03-07T12:45:53.668702Z"
    }
   },
   "id": "475eea3966ba034",
   "execution_count": null
  },
  {
   "cell_type": "code",
   "outputs": [],
   "source": [
    "s.intersection(s2)"
   ],
   "metadata": {
    "collapsed": false,
    "ExecuteTime": {
     "end_time": "2024-03-07T12:46:05.538742Z",
     "start_time": "2024-03-07T12:46:05.532303Z"
    }
   },
   "id": "dea815f1616ce51a",
   "execution_count": null
  },
  {
   "cell_type": "code",
   "outputs": [],
   "source": [
    "s & s2"
   ],
   "metadata": {
    "collapsed": false,
    "ExecuteTime": {
     "end_time": "2024-03-07T12:46:15.811188Z",
     "start_time": "2024-03-07T12:46:15.805147Z"
    }
   },
   "id": "195d0cb5b62bf4c4",
   "execution_count": null
  },
  {
   "cell_type": "code",
   "outputs": [],
   "source": [
    "s | s2"
   ],
   "metadata": {
    "collapsed": false,
    "ExecuteTime": {
     "end_time": "2024-03-07T12:46:22.144455Z",
     "start_time": "2024-03-07T12:46:22.137888Z"
    }
   },
   "id": "7bbb9cc422b4edda",
   "execution_count": null
  },
  {
   "cell_type": "code",
   "outputs": [],
   "source": [
    "s - s2"
   ],
   "metadata": {
    "collapsed": false,
    "ExecuteTime": {
     "end_time": "2024-03-07T13:27:12.280024Z",
     "start_time": "2024-03-07T13:27:12.272957Z"
    }
   },
   "id": "4c40c7a0e1c51c59",
   "execution_count": null
  },
  {
   "cell_type": "code",
   "outputs": [],
   "source": [
    "dir(set)"
   ],
   "metadata": {
    "collapsed": false,
    "ExecuteTime": {
     "end_time": "2024-03-07T12:46:26.883477Z",
     "start_time": "2024-03-07T12:46:26.877482Z"
    }
   },
   "id": "654b2da18eabcddf",
   "execution_count": null
  },
  {
   "cell_type": "markdown",
   "source": [
    "### Liczby losowe \n",
    "(do zadań)"
   ],
   "metadata": {
    "collapsed": false
   },
   "id": "53ccbcf49bb66888"
  },
  {
   "cell_type": "code",
   "outputs": [
    {
     "data": {
      "text/plain": "68"
     },
     "execution_count": 58,
     "metadata": {},
     "output_type": "execute_result"
    }
   ],
   "source": [
    "import random\n",
    "random.randint(0, 100)"
   ],
   "metadata": {
    "collapsed": false,
    "ExecuteTime": {
     "end_time": "2024-03-07T12:56:14.653170Z",
     "start_time": "2024-03-07T12:56:14.646748Z"
    }
   },
   "id": "49e4c7ac345860c8",
   "execution_count": 58
  },
  {
   "cell_type": "markdown",
   "source": [
    "### Zadanie 1\n",
    "Zdefiniować listę zawierającą liczby podzielne przez 5 z zakresu <0, 100> (łącznie z 0 i 100) (korzystając z range, range(od, do, krok), wydrukować\n",
    "* wydrukować listę od końca\n",
    "* wydrukować co drugi element listy, rozpoczynając od 5\n",
    "* wydrukować pierwszą połowę listy\n",
    "* policzyć średnią arytmetyczną liczb na liście \n",
    "* usunąć z listy liczbę 90\n",
    "* zamienić miejscami pierwszy i ostatni element listy\n",
    "* utworzyć z tej listy krotkę\n",
    "* przypisać do zmiennych drugi i przedostatni element krotki"
   ],
   "metadata": {
    "collapsed": false
   },
   "id": "56b2fe7f84c78021"
  },
  {
   "cell_type": "code",
   "outputs": [
    {
     "name": "stdout",
     "output_type": "stream",
     "text": [
      "[100, 95, 90, 85, 80, 75, 70, 65, 60, 55, 50, 45, 40, 35, 30, 25, 20, 15, 10, 5, 0]\n",
      "[5, 15, 25, 35, 45, 55, 65, 75, 85, 95]\n",
      "[0, 5, 10, 15, 20, 25, 30, 35, 40, 45, 50]\n",
      "50.0\n",
      "[0, 5, 10, 15, 20, 25, 30, 35, 40, 45, 50, 55, 60, 65, 70, 75, 80, 85, 95, 100]\n",
      "[100, 5, 10, 15, 20, 25, 30, 35, 40, 45, 50, 55, 60, 65, 70, 75, 80, 85, 95, 0]\n",
      "(100, 5, 10, 15, 20, 25, 30, 35, 40, 45, 50, 55, 60, 65, 70, 75, 80, 85, 95, 0)\n",
      "95\n",
      "100\n"
     ]
    }
   ],
   "source": [
    "# range is always exclusive in second value that's why we need to use 101 istead of 100\n",
    "my_list = list(range(0, 101, 5))\n",
    "print(my_list[::-1])\n",
    "print(my_list[1::2])\n",
    "print(my_list[:int(len(my_list)/2)+1:])\n",
    "print(sum(my_list)/len(my_list))\n",
    "my_list.remove(90)\n",
    "print(my_list)\n",
    "tmp = my_list[0]\n",
    "my_list[0] = my_list[len(my_list)-1]\n",
    "my_list[len(my_list)-1] = tmp\n",
    "print(my_list)\n",
    "\n",
    "my_tuple = tuple(my_list)\n",
    "print(my_tuple)\n",
    "\n",
    "x = my_tuple[-2]\n",
    "y = my_tuple[0]\n",
    "\n",
    "print(x)\n",
    "print(y)"
   ],
   "metadata": {
    "collapsed": false,
    "ExecuteTime": {
     "end_time": "2024-03-07T12:51:22.949913Z",
     "start_time": "2024-03-07T12:51:22.946566Z"
    }
   },
   "id": "2e3e9abaaee7289d",
   "execution_count": 56
  },
  {
   "cell_type": "markdown",
   "source": [
    "### Zadanie 2\n",
    "Utworzyć dwie listy, zawierające liczby losowe całkowite z zakresu od 0 do 10. Pierwsza lista ma mieć 5 elementów, a druga 10. Wydrukować obie listy. Wykorzystać random.randint, pętlę for oraz append.\n",
    "* Wyświetlić unikalne elementy na obu listach łącznie (wskazówka: wykorzystać zbiory)\n",
    "* Wyświetlić elementy, które znajdują się na drugiej liście, ale nie znajdują się na pierwszej (wykorzystać zbiory)"
   ],
   "metadata": {
    "collapsed": false
   },
   "id": "781f0b225e7daf9d"
  },
  {
   "cell_type": "code",
   "outputs": [
    {
     "name": "stdout",
     "output_type": "stream",
     "text": [
      "[3, 1, 8, 5, 4]\n",
      "[9, 10, 10, 1, 2, 3, 1, 8, 4, 10]\n",
      "{1, 3, 4, 5, 8}\n",
      "{1, 2, 3, 4, 8, 9, 10}\n",
      "{9, 2, 10}\n"
     ]
    }
   ],
   "source": [
    "import random\n",
    "\n",
    "first_list = []\n",
    "second_list = []\n",
    "\n",
    "for i in range(5):\n",
    "    first_list.append(random.randint(0,10))\n",
    "\n",
    "for i in range(10):\n",
    "    second_list.append(random.randint(0,10))\n",
    "\n",
    "print(first_list)\n",
    "print(second_list)\n",
    "\n",
    "first_set = set(first_list)\n",
    "second_set = set(second_list)\n",
    "\n",
    "print(first_set)\n",
    "print(second_set)\n",
    "\n",
    "print(second_set - first_set)"
   ],
   "metadata": {
    "collapsed": false,
    "ExecuteTime": {
     "end_time": "2024-03-07T13:00:47.163866Z",
     "start_time": "2024-03-07T13:00:47.159830Z"
    }
   },
   "id": "5f092db7ba6b8891",
   "execution_count": 4
  },
  {
   "cell_type": "markdown",
   "source": [
    "### Zadanie 3\n",
    "Utworzyć listę zawierającą 100 losowych liczb z zakresu <0, 10> (0 i 10 włącznie). Wydrukować.\n",
    "* Utworzyć słownik, zawierający pod kluczem i liczbę wystąpień liczby i na liście (wskazówka: wykorzystać pętlę for i count)"
   ],
   "metadata": {
    "collapsed": false
   },
   "id": "f22c808a167d548"
  },
  {
   "cell_type": "code",
   "outputs": [
    {
     "name": "stdout",
     "output_type": "stream",
     "text": [
      "[5, 2, 4, 4, 2, 4, 8, 7, 7, 3, 7, 9, 0, 3, 9, 6, 5, 5, 9, 3, 8, 8, 1, 6, 7, 5, 9, 9, 2, 9, 6, 7, 2, 7, 3, 10, 9, 7, 9, 0, 5, 9, 6, 2, 5, 2, 8, 8, 10, 5, 7, 1, 3, 8, 4, 3, 9, 8, 2, 4, 4, 5, 4, 10, 2, 3, 1, 4, 10, 1, 8, 9, 10, 9, 10, 3, 2, 0, 9, 10, 6, 10, 0, 1, 10, 4, 6, 0, 7, 3, 4, 0, 9, 4, 8, 1, 7, 6, 2, 0]\n",
      "<class 'dict'>\n",
      "{0: 7, 1: 6, 2: 10, 3: 9, 4: 11, 5: 8, 6: 7, 7: 10, 8: 9, 9: 14, 10: 9}\n"
     ]
    }
   ],
   "source": [
    "my_list = []\n",
    "for i in range(100):\n",
    "    my_list.append(random.randint(0,10))\n",
    "\n",
    "print(my_list)\n",
    "my_set = set(my_list)\n",
    "my_dictionary = {}\n",
    "\n",
    "print(type(my_dictionary))\n",
    "\n",
    "for i in range(len(my_set)):\n",
    "    tmp = my_set.pop()\n",
    "    my_dictionary[tmp] = my_list.count(tmp)\n",
    "\n",
    "print(my_dictionary)"
   ],
   "metadata": {
    "collapsed": false,
    "ExecuteTime": {
     "end_time": "2024-03-07T13:03:13.837615Z",
     "start_time": "2024-03-07T13:03:13.834787Z"
    }
   },
   "id": "345a8d8e7d426e5b",
   "execution_count": 18
  },
  {
   "cell_type": "markdown",
   "source": [
    "### Zadanie 4\n",
    "Utworzyć dwa słowniki: ceny i lista_zakupów. W słowniku cen kluczami są towary, a wartościami ceny jednostkowe (np. {'jablka': 2.5, 'czekolada': 10}). W słowniku zakupów kluczami są towary, a wartościami liczba produktów do kupienia.\n",
    "* Wczytać (input) dane dodatkowego towaru i ilość do kupienia i dodać do listy zakupów\n",
    "* Znaleźć klucze, które występują w obu słownikach\n",
    "* Policzyć całkowitą cenę dla listy zakupów (pomnożyć dla każdego produktu cena x liczba produktów do kupienia). Należy zliczyć tylko produkty znajdujące się w odbu słownikach."
   ],
   "metadata": {
    "collapsed": false
   },
   "id": "a275f4423cc2c86b"
  },
  {
   "cell_type": "code",
   "outputs": [
    {
     "name": "stdout",
     "output_type": "stream",
     "text": [
      "{'chocolate': 10}\n",
      "100\n"
     ]
    }
   ],
   "source": [
    "prices = {'apple': 5, 'chocolate': 10}\n",
    "shopping_cart = {}\n",
    "\n",
    "name = input(\"Name of the good\")\n",
    "amount = int(input(\"Amount ot buy\"))\n",
    "shopping_cart[name] = amount\n",
    "\n",
    "print(shopping_cart)\n",
    "\n",
    "key_list = list(shopping_cart.keys())\n",
    "\n",
    "price = 0\n",
    "\n",
    "for i in range(len(key_list)):\n",
    "    price = price + prices.get(key_list[i]) * shopping_cart.get(key_list[i])\n",
    "\n",
    "print(price)"
   ],
   "metadata": {
    "collapsed": false
   },
   "id": "6abd13b404332728",
   "execution_count": 47
  },
  {
   "cell_type": "markdown",
   "source": [
    "### Zadanie 5\n",
    "Utwórz listę słowników, gdzie każdy słownik opisuje ksiązkę (autor, tytuł, rok wydania). Wydrukuj.\n",
    "* Wyświetl autora drugiej (o indeksie 1) ksiązki na liście\n",
    "* Wyszukaj i wydrukuj wszystkie ksiązki danego autora (wykorzystać for i if)\n"
   ],
   "metadata": {
    "collapsed": false
   },
   "id": "cca421e126869668"
  },
  {
   "cell_type": "code",
   "outputs": [
    {
     "name": "stdout",
     "output_type": "stream",
     "text": [
      "Autor drugiej książki: J.K. Rowling\n",
      "Książki autora J.R.R. Tolkien:\n",
      "- Władca Pierścieni: Drużyna Pierścienia (1954)\n"
     ]
    }
   ],
   "source": [
    "\n",
    "ksiazki = [\n",
    "    {\"autor\": \"George Orwell\", \"tytul\": \"Rok 1984\", \"rok_wydania\": 1949},\n",
    "    {\"autor\": \"J.K. Rowling\", \"tytul\": \"Harry Potter i Kamień Filozoficzny\", \"rok_wydania\": 1997},\n",
    "    {\"autor\": \"J.R.R. Tolkien\", \"tytul\": \"Władca Pierścieni: Drużyna Pierścienia\", \"rok_wydania\": 1954},\n",
    "    {\"autor\": \"F. Scott Fitzgerald\", \"tytul\": \"Wielki Gatsby\", \"rok_wydania\": 1925},\n",
    "    {\"autor\": \"Harper Lee\", \"tytul\": \"Zabić drozda\", \"rok_wydania\": 1960}\n",
    "]\n",
    "\n",
    "print(\"Autor drugiej książki:\", ksiazki[1][\"autor\"])\n",
    "\n",
    "szukany_autor = \"J.R.R. Tolkien\"\n",
    "ksiazki_od_autora = [ksiazka for ksiazka in ksiazki if ksiazka[\"autor\"] == szukany_autor]\n",
    "print(f\"Książki autora {szukany_autor}:\")\n",
    "for ksiazka in ksiazki_od_autora:\n",
    "    print(f\"- {ksiazka['tytul']} ({ksiazka['rok_wydania']})\")\n"
   ],
   "metadata": {
    "collapsed": false
   },
   "id": "304479c48abe9d6b",
   "execution_count": 49
  },
  {
   "cell_type": "code",
   "execution_count": null,
   "outputs": [],
   "source": [],
   "metadata": {
    "collapsed": false
   }
  }
 ],
 "metadata": {
  "kernelspec": {
   "display_name": "Python 3",
   "language": "python",
   "name": "python3"
  },
  "language_info": {
   "codemirror_mode": {
    "name": "ipython",
    "version": 2
   },
   "file_extension": ".py",
   "mimetype": "text/x-python",
   "name": "python",
   "nbconvert_exporter": "python",
   "pygments_lexer": "ipython2",
   "version": "2.7.6"
  }
 },
 "nbformat": 4,
 "nbformat_minor": 5
}
